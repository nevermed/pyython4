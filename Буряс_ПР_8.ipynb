{
  "cells": [
    {
      "cell_type": "markdown",
      "id": "64cefbad",
      "metadata": {
        "id": "64cefbad"
      },
      "source": [
        "## Практична робота 8"
      ]
    },
    {
      "cell_type": "markdown",
      "id": "bac3173d",
      "metadata": {
        "id": "bac3173d"
      },
      "source": [
        "### Завдання"
      ]
    },
    {
      "cell_type": "markdown",
      "id": "0336f088",
      "metadata": {
        "id": "0336f088"
      },
      "source": [
        "Розробити за допомогою бібліотеки surprise рекомендаційну систему."
      ]
    },
    {
      "cell_type": "code",
      "execution_count": null,
      "id": "7154e933",
      "metadata": {
        "id": "7154e933"
      },
      "outputs": [],
      "source": [
        "from surprise import Dataset, Reader, SVD, SVDpp, NMF, KNNBasic, CoClustering\n",
        "from surprise.model_selection import cross_validate\n",
        "import matplotlib.pyplot as plt"
      ]
    },
    {
      "cell_type": "markdown",
      "id": "3d1228c0",
      "metadata": {
        "id": "3d1228c0"
      },
      "source": [
        "Використати датасет movielens-100k"
      ]
    },
    {
      "cell_type": "code",
      "execution_count": null,
      "id": "139c9bbd",
      "metadata": {
        "id": "139c9bbd"
      },
      "outputs": [],
      "source": [
        "data = Dataset.load_builtin('ml-100k')"
      ]
    },
    {
      "cell_type": "markdown",
      "id": "5511e8f6",
      "metadata": {
        "id": "5511e8f6"
      },
      "source": [
        "Використайте алгоритми SVD, SVDpp, NMF  + ще два на власний вибір.    \n",
        "Найкращі параметри для всіх алгоритмів підберіть за допомогою крос-валідації."
      ]
    },
    {
      "cell_type": "code",
      "execution_count": null,
      "id": "375fa9cd",
      "metadata": {
        "id": "375fa9cd"
      },
      "outputs": [],
      "source": [
        "algo_svd = SVD()\n",
        "algo_svdpp = SVDpp()\n",
        "algo_nmf = NMF()\n",
        "algo_knnbasic = KNNBasic()\n",
        "algo_coclustering = CoClustering()"
      ]
    },
    {
      "cell_type": "code",
      "execution_count": null,
      "id": "cf092e4c",
      "metadata": {
        "id": "cf092e4c",
        "outputId": "bc93780d-cdce-4ecc-9353-52668a7c2a31"
      },
      "outputs": [
        {
          "name": "stdout",
          "output_type": "stream",
          "text": [
            "Evaluating RMSE of algorithm SVD on 5 split(s).\n",
            "\n",
            "                  Fold 1  Fold 2  Fold 3  Fold 4  Fold 5  Mean    Std     \n",
            "RMSE (testset)    0.9400  0.9285  0.9393  0.9407  0.9373  0.9372  0.0045  \n",
            "Fit time          0.35    0.37    0.37    0.34    0.35    0.36    0.01    \n",
            "Test time         0.05    0.08    0.05    0.08    0.05    0.06    0.01    \n",
            "Evaluating RMSE of algorithm SVDpp on 5 split(s).\n",
            "\n",
            "                  Fold 1  Fold 2  Fold 3  Fold 4  Fold 5  Mean    Std     \n",
            "RMSE (testset)    0.9207  0.9255  0.9112  0.9218  0.9166  0.9192  0.0049  \n",
            "Fit time          9.03    9.01    8.98    8.98    8.94    8.99    0.03    \n",
            "Test time         1.45    1.45    1.44    1.42    1.44    1.44    0.01    \n",
            "Evaluating RMSE of algorithm NMF on 5 split(s).\n",
            "\n",
            "                  Fold 1  Fold 2  Fold 3  Fold 4  Fold 5  Mean    Std     \n",
            "RMSE (testset)    0.9578  0.9667  0.9740  0.9758  0.9529  0.9654  0.0089  \n",
            "Fit time          0.51    0.50    0.50    0.51    0.50    0.51    0.00    \n",
            "Test time         0.04    0.08    0.09    0.05    0.08    0.07    0.02    \n",
            "Computing the msd similarity matrix...\n",
            "Done computing similarity matrix.\n",
            "Computing the msd similarity matrix...\n",
            "Done computing similarity matrix.\n",
            "Computing the msd similarity matrix...\n",
            "Done computing similarity matrix.\n",
            "Computing the msd similarity matrix...\n",
            "Done computing similarity matrix.\n",
            "Computing the msd similarity matrix...\n",
            "Done computing similarity matrix.\n",
            "Evaluating RMSE of algorithm KNNBasic on 5 split(s).\n",
            "\n",
            "                  Fold 1  Fold 2  Fold 3  Fold 4  Fold 5  Mean    Std     \n",
            "RMSE (testset)    0.9773  0.9788  0.9829  0.9710  0.9821  0.9784  0.0042  \n",
            "Fit time          0.16    0.17    0.17    0.17    0.17    0.17    0.00    \n",
            "Test time         1.11    1.17    1.10    1.10    1.09    1.11    0.03    \n",
            "Evaluating RMSE of algorithm CoClustering on 5 split(s).\n",
            "\n",
            "                  Fold 1  Fold 2  Fold 3  Fold 4  Fold 5  Mean    Std     \n",
            "RMSE (testset)    0.9528  0.9644  0.9674  0.9522  0.9713  0.9616  0.0078  \n",
            "Fit time          0.67    0.68    0.68    0.66    0.68    0.67    0.01    \n",
            "Test time         0.09    0.04    0.04    0.09    0.04    0.06    0.02    \n"
          ]
        }
      ],
      "source": [
        "cv_svd = cross_validate(algo_svd, data, measures=['RMSE'], cv=5, verbose=True)\n",
        "cv_svdpp = cross_validate(algo_svdpp, data, measures=['RMSE'], cv=5, verbose=True)\n",
        "cv_nmf = cross_validate(algo_nmf, data, measures=['RMSE'], cv=5, verbose=True)\n",
        "cv_knnbasic = cross_validate(algo_knnbasic, data, measures=['RMSE'], cv=5, verbose=True)\n",
        "cv_coclustering = cross_validate(algo_coclustering, data, measures=['RMSE'], cv=5, verbose=True)"
      ]
    },
    {
      "cell_type": "markdown",
      "id": "4ac94ce7",
      "metadata": {
        "id": "4ac94ce7"
      },
      "source": [
        "Обчисліть середнє значення середньоквадратичної помилки RMSE для кожного алгоритму на основі результатів крос-валідації.   \n",
        "Зазвичай, алгоритм з найменшим значенням RMSE вважається найкращим для даного завдання рекомендації."
      ]
    },
    {
      "cell_type": "code",
      "execution_count": null,
      "id": "8bc1a341",
      "metadata": {
        "id": "8bc1a341",
        "outputId": "7f21a463-7b17-491b-da8c-969c8610ddb1"
      },
      "outputs": [
        {
          "name": "stdout",
          "output_type": "stream",
          "text": [
            "SVD RMSE: 0.9371770698936619\n",
            "SVD++ RMSE: 0.919158253375814\n",
            "NMF RMSE: 0.9654475537108537\n",
            "KNNBasic RMSE: 0.9784140202849054\n",
            "CoClustering RMSE: 0.9615993793877999\n"
          ]
        }
      ],
      "source": [
        "svd_rmse = cv_svd['test_rmse'].mean()\n",
        "svdpp_rmse = cv_svdpp['test_rmse'].mean()\n",
        "nmf_rmse = cv_nmf['test_rmse'].mean()\n",
        "knnbasic_rmse = cv_knnbasic['test_rmse'].mean()\n",
        "coclustering_rmse = cv_coclustering['test_rmse'].mean()\n",
        "\n",
        "print(\"SVD RMSE:\", svd_rmse)\n",
        "print(\"SVD++ RMSE:\", svdpp_rmse)\n",
        "print(\"NMF RMSE:\", nmf_rmse)\n",
        "print(\"KNNBasic RMSE:\", knnbasic_rmse)\n",
        "print(\"CoClustering RMSE:\", coclustering_rmse)"
      ]
    },
    {
      "cell_type": "markdown",
      "id": "8dcc1da2",
      "metadata": {
        "id": "8dcc1da2"
      },
      "source": [
        "Виберіть оптимальний алгоритм. Зробіть візуалізацію.  \n",
        "\n",
        "Алгоритм SVD++(SVPpp) видав найменшу сердньоквадратичну помилку, тому далі будемо використовувати саме його."
      ]
    },
    {
      "cell_type": "code",
      "execution_count": null,
      "id": "2e52dbee",
      "metadata": {
        "id": "2e52dbee",
        "outputId": "8c8c734b-0e1f-47c9-f896-4821d3e8abe6"
      },
      "outputs": [
        {
          "data": {
            "image/png": "[encoded data removed]",
            "text/plain": [
              "<Figure size 640x480 with 1 Axes>"
            ]
          },
          "metadata": {},
          "output_type": "display_data"
        }
      ],
      "source": [
        "rmse_values = [svd_rmse, svdpp_rmse, nmf_rmse, knnbasic_rmse, coclustering_rmse]\n",
        "algos = ['SVD', 'SVD++', 'NMF', 'KNNBasic', 'CoClustering']\n",
        "plt.bar(algos, rmse_values, color=['blue', 'green', 'red', 'purple', 'orange'])\n",
        "plt.xlabel('Algorithms')\n",
        "plt.ylabel(\"RMSE Values\")\n",
        "plt.title('RMSE Comparison for Matrix Factorization Algorithms')\n",
        "plt.ylim(0.9, 1.0)\n",
        "plt.gca().set_axisbelow(True)\n",
        "plt.grid(linewidth=0.5)\n",
        "plt.show()"
      ]
    },
    {
      "cell_type": "markdown",
      "id": "00391b99",
      "metadata": {
        "id": "00391b99"
      },
      "source": [
        "Під час виконання Практичної роботи №8 ми досліджували та використовували методи для створення рекомендаційних систем, таких як SVD, SVD++, NMF, KNNBasic та CoClustering. Основна мета роботи полягала в освоєнні принципів цих алгоритмів та їхніх можливих застосувань. У процесі роботи ми також вивчили визначення RMSE для кожного алгоритму на підставі результатів крос-валідації та покращили навички в побудові та аналізі графіків."
      ]
    }
  ],
  "metadata": {
    "kernelspec": {
      "display_name": "Python 3 (ipykernel)",
      "language": "python",
      "name": "python3"
    },
    "language_info": {
      "codemirror_mode": {
        "name": "ipython",
        "version": 3
      },
      "file_extension": ".py",
      "mimetype": "text/x-python",
      "name": "python",
      "nbconvert_exporter": "python",
      "pygments_lexer": "ipython3",
      "version": "3.11.5"
    },
    "colab": {
      "provenance": []
    }
  },
  "nbformat": 4,
  "nbformat_minor": 5
}